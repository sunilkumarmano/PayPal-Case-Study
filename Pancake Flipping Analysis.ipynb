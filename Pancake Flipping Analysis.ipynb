{
 "cells": [
  {
   "cell_type": "markdown",
   "metadata": {},
   "source": [
    "---\n",
    "# **Pancake Flipping Analysis**\n",
    "---"
   ]
  },
  {
   "cell_type": "markdown",
   "metadata": {},
   "source": [
    "# **Table of Contents**\n",
    "\n",
    "1. [Objective](#Section1)<br>\n",
    "2. [Data Description](#Section2)<br>\n",
    "  2.1 [Importing packages](#Section21)<br>\n",
    "  2.2 [Importing the Dataset](#Section22)<br>\n",
    "  2.3 [Data Description](#Section23)<br>\n",
    "3. [Data Pre-processing](#Section3)<br>\n",
    "  3.1 [Checking for Null Values](#Section31)<br>\n",
    "  3.2 [Checking for Duplicates records](#Section32)<br>\n",
    "  3.3 [Checking for Constant or Primary Key Columns](#Section33)<br>\n",
    "4. [Exploratory Data Analysis](#Section4)<br>\n",
    "  4.1 [Distribution of Scores](#Section41)<br>\n",
    "  4.2 [Finding Correlation between Match Day vs Scores](#Section42)<br>\n",
    "  4.3 [Finding the Proportion of Right - Left Usage of Both the contestants](#Section43)<br>\n",
    "  4.4 [Creating a new categorical variable \"Match Day Bucket\"](#Section44)<br>\n",
    "  4.5 [Match Day Bucket vs Avg. Score](#Section45)<br>\n",
    "  4.6 [Match Day Bucket vs Hand vs Score](#Section46)<br>\n",
    "5. [Analysis - Summary](#Section5)<br>"
   ]
  },
  {
   "cell_type": "markdown",
   "metadata": {},
   "source": [
    "<a name = Section1></a>\n",
    "\n",
    "---\n",
    "### **1. Objective**\n",
    "---\n",
    "\n",
    "- Arielle and Boris compete in the little-known sport of pancake flipping, and have both been nominated for this season's \"best pancake flipper\" award. As a Data Scientist our objective is to provide the Data Driven Analysis and suggestion on who is the better pancake flipper.\n",
    "\n",
    "#### Data in Scope\n",
    "\n",
    "- History of data from this season for both the players are taken into scope for the Analysis."
   ]
  },
  {
   "cell_type": "markdown",
   "metadata": {},
   "source": [
    "<a name = Section2></a>\n",
    "\n",
    "---\n",
    "### **2. Data Description**\n",
    "---\n"
   ]
  },
  {
   "cell_type": "markdown",
   "metadata": {},
   "source": [
    "<a name = Section21></a>\n",
    "#### 2.1 Importing packages"
   ]
  },
  {
   "cell_type": "code",
   "execution_count": 1,
   "metadata": {},
   "outputs": [],
   "source": [
    "import numpy as np                    # Implements multi-dimensional array and matrices\n",
    "import pandas as pd                   # For data manipulation and analysis\n",
    "import matplotlib.pyplot as plt\n",
    "import seaborn as sns"
   ]
  },
  {
   "cell_type": "markdown",
   "metadata": {},
   "source": [
    "<a name = Section22></a>\n",
    "#### 2.2 Importing the Dataset"
   ]
  },
  {
   "cell_type": "code",
   "execution_count": 2,
   "metadata": {},
   "outputs": [
    {
     "data": {
      "text/html": [
       "<div>\n",
       "<style scoped>\n",
       "    .dataframe tbody tr th:only-of-type {\n",
       "        vertical-align: middle;\n",
       "    }\n",
       "\n",
       "    .dataframe tbody tr th {\n",
       "        vertical-align: top;\n",
       "    }\n",
       "\n",
       "    .dataframe thead th {\n",
       "        text-align: right;\n",
       "    }\n",
       "</style>\n",
       "<table border=\"1\" class=\"dataframe\">\n",
       "  <thead>\n",
       "    <tr style=\"text-align: right;\">\n",
       "      <th></th>\n",
       "      <th>match_day</th>\n",
       "      <th>name</th>\n",
       "      <th>hand</th>\n",
       "      <th>score</th>\n",
       "      <th>attempts</th>\n",
       "    </tr>\n",
       "  </thead>\n",
       "  <tbody>\n",
       "    <tr>\n",
       "      <td>0</td>\n",
       "      <td>1</td>\n",
       "      <td>Arielle</td>\n",
       "      <td>R</td>\n",
       "      <td>8</td>\n",
       "      <td>20</td>\n",
       "    </tr>\n",
       "    <tr>\n",
       "      <td>1</td>\n",
       "      <td>2</td>\n",
       "      <td>Arielle</td>\n",
       "      <td>R</td>\n",
       "      <td>10</td>\n",
       "      <td>20</td>\n",
       "    </tr>\n",
       "    <tr>\n",
       "      <td>2</td>\n",
       "      <td>3</td>\n",
       "      <td>Arielle</td>\n",
       "      <td>R</td>\n",
       "      <td>6</td>\n",
       "      <td>20</td>\n",
       "    </tr>\n",
       "    <tr>\n",
       "      <td>3</td>\n",
       "      <td>4</td>\n",
       "      <td>Arielle</td>\n",
       "      <td>L</td>\n",
       "      <td>4</td>\n",
       "      <td>20</td>\n",
       "    </tr>\n",
       "    <tr>\n",
       "      <td>4</td>\n",
       "      <td>5</td>\n",
       "      <td>Arielle</td>\n",
       "      <td>R</td>\n",
       "      <td>7</td>\n",
       "      <td>20</td>\n",
       "    </tr>\n",
       "  </tbody>\n",
       "</table>\n",
       "</div>"
      ],
      "text/plain": [
       "   match_day     name hand  score  attempts\n",
       "0          1  Arielle    R      8        20\n",
       "1          2  Arielle    R     10        20\n",
       "2          3  Arielle    R      6        20\n",
       "3          4  Arielle    L      4        20\n",
       "4          5  Arielle    R      7        20"
      ]
     },
     "execution_count": 2,
     "metadata": {},
     "output_type": "execute_result"
    }
   ],
   "source": [
    "data = pd.read_csv(\"https://raw.githubusercontent.com/sunilkumarmano/PayPal-Case-Study/main/data.csv\")     # Importing training dataset using pd.read_csv\n",
    "data.head()"
   ]
  },
  {
   "cell_type": "markdown",
   "metadata": {},
   "source": [
    "<a name = Section23></a>\n",
    "#### 2.3 Data Description"
   ]
  },
  {
   "cell_type": "code",
   "execution_count": 3,
   "metadata": {},
   "outputs": [
    {
     "name": "stdout",
     "output_type": "stream",
     "text": [
      "<class 'pandas.core.frame.DataFrame'>\n",
      "RangeIndex: 100 entries, 0 to 99\n",
      "Data columns (total 5 columns):\n",
      "match_day    100 non-null int64\n",
      "name         100 non-null object\n",
      "hand         100 non-null object\n",
      "score        100 non-null int64\n",
      "attempts     100 non-null int64\n",
      "dtypes: int64(3), object(2)\n",
      "memory usage: 4.0+ KB\n"
     ]
    }
   ],
   "source": [
    "data.info()"
   ]
  },
  {
   "cell_type": "markdown",
   "metadata": {},
   "source": [
    "The stats data collected for this analysis are as follows.\n",
    "\n",
    "- The contestant's name\n",
    "- The match day\n",
    "- Which hand they used to flip the pancakes (Right or Left)\n",
    "- Their score (how many pancakes they flipped successfully)\n",
    "- How many total pancakes they attempted to flip\n",
    "\n",
    "The sample size provided for the analysis is 100 records with equal split between both the contestants of 50 each.\n",
    "Hence, the sample size is equally distributed and not biased towards any particular contestant."
   ]
  },
  {
   "cell_type": "markdown",
   "metadata": {},
   "source": [
    "<a name = Section3></a>\n",
    "\n",
    "---\n",
    "### **3. Data Pre-processing**\n",
    "---"
   ]
  },
  {
   "cell_type": "markdown",
   "metadata": {},
   "source": [
    "<a name = Section31></a>\n",
    "#### 3.1 Checking for Null Values"
   ]
  },
  {
   "cell_type": "code",
   "execution_count": 4,
   "metadata": {},
   "outputs": [
    {
     "data": {
      "text/plain": [
       "match_day    0\n",
       "name         0\n",
       "hand         0\n",
       "score        0\n",
       "attempts     0\n",
       "dtype: int64"
      ]
     },
     "execution_count": 4,
     "metadata": {},
     "output_type": "execute_result"
    }
   ],
   "source": [
    "data.isnull().sum()"
   ]
  },
  {
   "cell_type": "markdown",
   "metadata": {},
   "source": [
    "Using the Pandas Dataframe, we checked for the Null values in the data and it is clearly evident that the data provided does not contain any Null values."
   ]
  },
  {
   "cell_type": "markdown",
   "metadata": {},
   "source": [
    "<a name = Section32></a>\n",
    "#### 3.2 Checking for Duplicates records"
   ]
  },
  {
   "cell_type": "code",
   "execution_count": 5,
   "metadata": {},
   "outputs": [
    {
     "name": "stdout",
     "output_type": "stream",
     "text": [
      "Contains Duplicate Rows? False\n"
     ]
    }
   ],
   "source": [
    "print('Contains Duplicate Rows?', data.duplicated().any())"
   ]
  },
  {
   "cell_type": "markdown",
   "metadata": {},
   "source": [
    "Using the Pandas Dataframe, we checked for the Duplicate records in the data and it is clearly evident that the data provided does not contain any Duplicate records."
   ]
  },
  {
   "cell_type": "markdown",
   "metadata": {},
   "source": [
    "<a name = Section33></a>\n",
    "#### 3.3 Checking for Constant or Primary Key Columns"
   ]
  },
  {
   "cell_type": "code",
   "execution_count": 6,
   "metadata": {},
   "outputs": [
    {
     "data": {
      "text/html": [
       "<div>\n",
       "<style scoped>\n",
       "    .dataframe tbody tr th:only-of-type {\n",
       "        vertical-align: middle;\n",
       "    }\n",
       "\n",
       "    .dataframe tbody tr th {\n",
       "        vertical-align: top;\n",
       "    }\n",
       "\n",
       "    .dataframe thead th {\n",
       "        text-align: right;\n",
       "    }\n",
       "</style>\n",
       "<table border=\"1\" class=\"dataframe\">\n",
       "  <thead>\n",
       "    <tr style=\"text-align: right;\">\n",
       "      <th></th>\n",
       "      <th>match_day</th>\n",
       "      <th>score</th>\n",
       "      <th>attempts</th>\n",
       "    </tr>\n",
       "  </thead>\n",
       "  <tbody>\n",
       "    <tr>\n",
       "      <td>count</td>\n",
       "      <td>100.00000</td>\n",
       "      <td>100.000000</td>\n",
       "      <td>100.0</td>\n",
       "    </tr>\n",
       "    <tr>\n",
       "      <td>mean</td>\n",
       "      <td>25.50000</td>\n",
       "      <td>6.790000</td>\n",
       "      <td>20.0</td>\n",
       "    </tr>\n",
       "    <tr>\n",
       "      <td>std</td>\n",
       "      <td>14.50357</td>\n",
       "      <td>2.539765</td>\n",
       "      <td>0.0</td>\n",
       "    </tr>\n",
       "    <tr>\n",
       "      <td>min</td>\n",
       "      <td>1.00000</td>\n",
       "      <td>1.000000</td>\n",
       "      <td>20.0</td>\n",
       "    </tr>\n",
       "    <tr>\n",
       "      <td>25%</td>\n",
       "      <td>13.00000</td>\n",
       "      <td>5.000000</td>\n",
       "      <td>20.0</td>\n",
       "    </tr>\n",
       "    <tr>\n",
       "      <td>50%</td>\n",
       "      <td>25.50000</td>\n",
       "      <td>7.000000</td>\n",
       "      <td>20.0</td>\n",
       "    </tr>\n",
       "    <tr>\n",
       "      <td>75%</td>\n",
       "      <td>38.00000</td>\n",
       "      <td>9.000000</td>\n",
       "      <td>20.0</td>\n",
       "    </tr>\n",
       "    <tr>\n",
       "      <td>max</td>\n",
       "      <td>50.00000</td>\n",
       "      <td>13.000000</td>\n",
       "      <td>20.0</td>\n",
       "    </tr>\n",
       "  </tbody>\n",
       "</table>\n",
       "</div>"
      ],
      "text/plain": [
       "       match_day       score  attempts\n",
       "count  100.00000  100.000000     100.0\n",
       "mean    25.50000    6.790000      20.0\n",
       "std     14.50357    2.539765       0.0\n",
       "min      1.00000    1.000000      20.0\n",
       "25%     13.00000    5.000000      20.0\n",
       "50%     25.50000    7.000000      20.0\n",
       "75%     38.00000    9.000000      20.0\n",
       "max     50.00000   13.000000      20.0"
      ]
     },
     "execution_count": 6,
     "metadata": {},
     "output_type": "execute_result"
    }
   ],
   "source": [
    "data.describe()"
   ]
  },
  {
   "cell_type": "markdown",
   "metadata": {},
   "source": [
    "Using the Pandas Dataframe, we checked for the constant values in the data and it is clearly \tevident that the variable ”Attempts” has constant value in all the records since, it contains \tminimum, maximum and mean values are same. Hence, we are dropping it from the analysis."
   ]
  },
  {
   "cell_type": "markdown",
   "metadata": {},
   "source": [
    "<a name = Section34></a>\n",
    "#### 3.4 Dropping Constant or Primary Key Columns"
   ]
  },
  {
   "cell_type": "code",
   "execution_count": 7,
   "metadata": {},
   "outputs": [
    {
     "data": {
      "text/html": [
       "<div>\n",
       "<style scoped>\n",
       "    .dataframe tbody tr th:only-of-type {\n",
       "        vertical-align: middle;\n",
       "    }\n",
       "\n",
       "    .dataframe tbody tr th {\n",
       "        vertical-align: top;\n",
       "    }\n",
       "\n",
       "    .dataframe thead th {\n",
       "        text-align: right;\n",
       "    }\n",
       "</style>\n",
       "<table border=\"1\" class=\"dataframe\">\n",
       "  <thead>\n",
       "    <tr style=\"text-align: right;\">\n",
       "      <th></th>\n",
       "      <th>match_day</th>\n",
       "      <th>name</th>\n",
       "      <th>hand</th>\n",
       "      <th>score</th>\n",
       "    </tr>\n",
       "  </thead>\n",
       "  <tbody>\n",
       "    <tr>\n",
       "      <td>0</td>\n",
       "      <td>1</td>\n",
       "      <td>Arielle</td>\n",
       "      <td>R</td>\n",
       "      <td>8</td>\n",
       "    </tr>\n",
       "    <tr>\n",
       "      <td>1</td>\n",
       "      <td>2</td>\n",
       "      <td>Arielle</td>\n",
       "      <td>R</td>\n",
       "      <td>10</td>\n",
       "    </tr>\n",
       "    <tr>\n",
       "      <td>2</td>\n",
       "      <td>3</td>\n",
       "      <td>Arielle</td>\n",
       "      <td>R</td>\n",
       "      <td>6</td>\n",
       "    </tr>\n",
       "    <tr>\n",
       "      <td>3</td>\n",
       "      <td>4</td>\n",
       "      <td>Arielle</td>\n",
       "      <td>L</td>\n",
       "      <td>4</td>\n",
       "    </tr>\n",
       "    <tr>\n",
       "      <td>4</td>\n",
       "      <td>5</td>\n",
       "      <td>Arielle</td>\n",
       "      <td>R</td>\n",
       "      <td>7</td>\n",
       "    </tr>\n",
       "  </tbody>\n",
       "</table>\n",
       "</div>"
      ],
      "text/plain": [
       "   match_day     name hand  score\n",
       "0          1  Arielle    R      8\n",
       "1          2  Arielle    R     10\n",
       "2          3  Arielle    R      6\n",
       "3          4  Arielle    L      4\n",
       "4          5  Arielle    R      7"
      ]
     },
     "execution_count": 7,
     "metadata": {},
     "output_type": "execute_result"
    }
   ],
   "source": [
    "data = data.drop(['attempts'], axis = 1)\n",
    "data.head()"
   ]
  },
  {
   "cell_type": "markdown",
   "metadata": {},
   "source": [
    "<a name = Section4></a>\n",
    "\n",
    "---\n",
    "### **4. Exploratory Data Analysis**\n",
    "---"
   ]
  },
  {
   "cell_type": "markdown",
   "metadata": {},
   "source": [
    "Variables considered for the analysis after the Data pre-processing are Name, Match Day, Hand and Score.\n",
    "\n",
    "Here is the initial Plan of Action (or) the Approach for the Analysis with the given data.\n",
    "\n",
    "- Step 1: Distribution of Scores – Overall, Arielle and Boris\n",
    "- Step 2: Finding Correlation between Match Day and Scores – Overall, Arielle and Boris.\n",
    "- Step 3: Finding Proportion of Right Hand or Left Hand usage between Arielle and Boris.\n",
    "- Step 4: Creating Additional Derived Variables, when required."
   ]
  },
  {
   "cell_type": "markdown",
   "metadata": {},
   "source": [
    "<a name = Section41></a>\n",
    "#### 4.1 Distribution of Scores"
   ]
  },
  {
   "cell_type": "code",
   "execution_count": 8,
   "metadata": {},
   "outputs": [
    {
     "data": {
      "image/png": "[encoded data removed]",
      "text/plain": [
       "<Figure size 1080x288 with 3 Axes>"
      ]
     },
     "metadata": {
      "needs_background": "light"
     },
     "output_type": "display_data"
    }
   ],
   "source": [
    "Arielle_data = data[data['name'] == 'Arielle']\n",
    "Boris_data = data[data['name'] == 'Boris']\n",
    "\n",
    "figure = plt.figure(figsize = [15, 4])\n",
    "\n",
    "plt.subplot(1, 3, 1)\n",
    "sns.distplot(data.score, color=\"b\")\n",
    "\n",
    "plt.subplot(1, 3, 2)\n",
    "sns.distplot(Arielle_data.score, color=\"r\")\n",
    "\n",
    "plt.subplot(1, 3, 3)\n",
    "sns.distplot(Boris_data.score, color=\"g\")\n",
    "\n",
    "plt.suptitle(\"Distribution of Scores\")\n",
    "plt.show()"
   ]
  },
  {
   "cell_type": "markdown",
   "metadata": {},
   "source": [
    "- Overall Score Distribution\n",
    "\n",
    "Overall score in the given sample is normally distributed since, the mean, median and mode remains at its peak.\n",
    "\n",
    "- Arielle Score Distribution\n",
    "\n",
    "Arielle score in the given sample is left or negatively skewed since, the mean is also at the left of its peak.\n",
    "\n",
    "- Boris Score Distribution\n",
    "\n",
    "Boris score in the given sample is right or positively skewed since, the mean also remains at the right of its peak.\n"
   ]
  },
  {
   "cell_type": "markdown",
   "metadata": {},
   "source": [
    "<a name = Section42></a>\n",
    "#### 4.2 Finding Correlation between Match Day vs Scores"
   ]
  },
  {
   "cell_type": "code",
   "execution_count": 9,
   "metadata": {},
   "outputs": [
    {
     "data": {
      "text/plain": [
       "<seaborn.axisgrid.JointGrid at 0x1e9cb046fc8>"
      ]
     },
     "execution_count": 9,
     "metadata": {},
     "output_type": "execute_result"
    },
    {
     "data": {
      "image/png": "[encoded data removed]",
      "text/plain": [
       "<Figure size 432x432 with 3 Axes>"
      ]
     },
     "metadata": {
      "needs_background": "light"
     },
     "output_type": "display_data"
    }
   ],
   "source": [
    "# Finding correlation between Match Day vs Scores - Overall\n",
    "sns.jointplot(\"match_day\", \"score\", data=data, kind='reg')"
   ]
  },
  {
   "cell_type": "markdown",
   "metadata": {},
   "source": [
    "Based on the above chart, it is clearly evident that there is no correlation between Match day and Score variable for the overall data."
   ]
  },
  {
   "cell_type": "code",
   "execution_count": 10,
   "metadata": {},
   "outputs": [
    {
     "data": {
      "text/plain": [
       "<seaborn.axisgrid.JointGrid at 0x1e9cb4f8408>"
      ]
     },
     "execution_count": 10,
     "metadata": {},
     "output_type": "execute_result"
    },
    {
     "data": {
      "image/png": "[encoded data removed]",
      "text/plain": [
       "<Figure size 432x432 with 3 Axes>"
      ]
     },
     "metadata": {
      "needs_background": "light"
     },
     "output_type": "display_data"
    }
   ],
   "source": [
    "# Finding correlation between Match Day vs Scores - Arielle Data\n",
    "sns.jointplot(\"match_day\", \"score\", data=Arielle_data, kind='reg')"
   ]
  },
  {
   "cell_type": "markdown",
   "metadata": {},
   "source": [
    "Based on the above chart, it is clearly evident that there is a negative corelation between Match day and Score variable for Arielle sample."
   ]
  },
  {
   "cell_type": "code",
   "execution_count": 11,
   "metadata": {},
   "outputs": [
    {
     "data": {
      "text/plain": [
       "<seaborn.axisgrid.JointGrid at 0x1e9cb6feb48>"
      ]
     },
     "execution_count": 11,
     "metadata": {},
     "output_type": "execute_result"
    },
    {
     "data": {
      "image/png": "[encoded data removed]",
      "text/plain": [
       "<Figure size 432x432 with 3 Axes>"
      ]
     },
     "metadata": {
      "needs_background": "light"
     },
     "output_type": "display_data"
    }
   ],
   "source": [
    "# Finding correlation between Match Day vs Scores - Boris Data\n",
    "sns.jointplot(\"match_day\", \"score\", data=Boris_data, kind='reg')"
   ]
  },
  {
   "cell_type": "markdown",
   "metadata": {},
   "source": [
    "Based on the above chart, it is clearly evident that there is a positive corelation between Match day and Score variable for Boris sample."
   ]
  },
  {
   "cell_type": "markdown",
   "metadata": {},
   "source": [
    "<a name = Section43></a>\n",
    "#### 4.3 Finding the Proportion of Right - Left Usage of Both the contestants"
   ]
  },
  {
   "cell_type": "code",
   "execution_count": 12,
   "metadata": {},
   "outputs": [
    {
     "data": {
      "image/png": "[encoded data removed]",
      "text/plain": [
       "<Figure size 720x360 with 1 Axes>"
      ]
     },
     "metadata": {
      "needs_background": "light"
     },
     "output_type": "display_data"
    }
   ],
   "source": [
    "figure = plt.figure(figsize = [10, 5])\n",
    "\n",
    "ax = sns.countplot(x = 'name', hue = 'hand', data = data, palette = ['#56DB7F', '#DB5E56'])\n",
    "total = data.shape[0]\n",
    "\n",
    "for p in ax.patches:\n",
    "  percentage = '{:.0f}'.format(100 * p.get_height() / total)\n",
    "  x = p.get_x() + p.get_width() / 3\n",
    "  y = p.get_y() + p.get_height()\n",
    "  ax.annotate(percentage, (x, y))\n",
    "\n",
    "plt.xlabel('Name', size = 14)\n",
    "plt.xticks(ticks = [0, 1, 2], labels = ['Arille', 'Boris'], rotation = 0)\n",
    "plt.ylabel('Count', size = 14)\n",
    "plt.legend(labels = ['Right Hand', 'Left Hand'])\n",
    "plt.title('Proportion of Right and Left Hand', size = 16)\n",
    "plt.show()"
   ]
  },
  {
   "cell_type": "markdown",
   "metadata": {},
   "source": [
    "- From the chart, it is clearly evident that Arille has used Right hand in most of the Pan Flippings in this season. Whereas Boris has used Left hand in most of the Pan Flippings in this season.\n",
    "- And also from the previous analysis, we can see that Match Day variable shows correlation with the other variables.\n",
    "- So, to further analyze lets create a categorical variable Match Day Bucket from the Match Day variable(continuous)."
   ]
  },
  {
   "cell_type": "markdown",
   "metadata": {},
   "source": [
    "<a name = Section44></a>\n",
    "#### 4.4 Creating a new categorical variable \"Match Day Bucket\""
   ]
  },
  {
   "cell_type": "code",
   "execution_count": 13,
   "metadata": {},
   "outputs": [],
   "source": [
    "#add a new column Match_Day_Bucket next to Match_day column. \n",
    "category = pd.cut(data.match_day, \n",
    "                  bins=[0,10,20,30,40,50],\n",
    "                  labels=['1 to 10','11 to 20','21 to 30','31 to 40','41 to 50'])\n",
    "data.insert(1,'match_day_bucket',category)"
   ]
  },
  {
   "cell_type": "code",
   "execution_count": 14,
   "metadata": {},
   "outputs": [
    {
     "data": {
      "text/html": [
       "<div>\n",
       "<style scoped>\n",
       "    .dataframe tbody tr th:only-of-type {\n",
       "        vertical-align: middle;\n",
       "    }\n",
       "\n",
       "    .dataframe tbody tr th {\n",
       "        vertical-align: top;\n",
       "    }\n",
       "\n",
       "    .dataframe thead th {\n",
       "        text-align: right;\n",
       "    }\n",
       "</style>\n",
       "<table border=\"1\" class=\"dataframe\">\n",
       "  <thead>\n",
       "    <tr style=\"text-align: right;\">\n",
       "      <th></th>\n",
       "      <th>match_day</th>\n",
       "      <th>match_day_bucket</th>\n",
       "      <th>name</th>\n",
       "      <th>hand</th>\n",
       "      <th>score</th>\n",
       "    </tr>\n",
       "  </thead>\n",
       "  <tbody>\n",
       "    <tr>\n",
       "      <td>0</td>\n",
       "      <td>1</td>\n",
       "      <td>1 to 10</td>\n",
       "      <td>Arielle</td>\n",
       "      <td>R</td>\n",
       "      <td>8</td>\n",
       "    </tr>\n",
       "    <tr>\n",
       "      <td>1</td>\n",
       "      <td>2</td>\n",
       "      <td>1 to 10</td>\n",
       "      <td>Arielle</td>\n",
       "      <td>R</td>\n",
       "      <td>10</td>\n",
       "    </tr>\n",
       "    <tr>\n",
       "      <td>2</td>\n",
       "      <td>3</td>\n",
       "      <td>1 to 10</td>\n",
       "      <td>Arielle</td>\n",
       "      <td>R</td>\n",
       "      <td>6</td>\n",
       "    </tr>\n",
       "    <tr>\n",
       "      <td>3</td>\n",
       "      <td>4</td>\n",
       "      <td>1 to 10</td>\n",
       "      <td>Arielle</td>\n",
       "      <td>L</td>\n",
       "      <td>4</td>\n",
       "    </tr>\n",
       "    <tr>\n",
       "      <td>4</td>\n",
       "      <td>5</td>\n",
       "      <td>1 to 10</td>\n",
       "      <td>Arielle</td>\n",
       "      <td>R</td>\n",
       "      <td>7</td>\n",
       "    </tr>\n",
       "  </tbody>\n",
       "</table>\n",
       "</div>"
      ],
      "text/plain": [
       "   match_day match_day_bucket     name hand  score\n",
       "0          1          1 to 10  Arielle    R      8\n",
       "1          2          1 to 10  Arielle    R     10\n",
       "2          3          1 to 10  Arielle    R      6\n",
       "3          4          1 to 10  Arielle    L      4\n",
       "4          5          1 to 10  Arielle    R      7"
      ]
     },
     "execution_count": 14,
     "metadata": {},
     "output_type": "execute_result"
    }
   ],
   "source": [
    "data.head()"
   ]
  },
  {
   "cell_type": "markdown",
   "metadata": {},
   "source": [
    "- We have created the new categorical variable Match day bucket from the continuous variable Match day for our analysis.\n",
    "\n",
    "- The Main reason for creating this categorical variable is to simplify the analysis by comparing it with the other features."
   ]
  },
  {
   "cell_type": "markdown",
   "metadata": {},
   "source": [
    "<a name = Section45></a>\n",
    "#### 4.5 Match Day Bucket vs Avg. Score\n"
   ]
  },
  {
   "cell_type": "markdown",
   "metadata": {},
   "source": [
    "Let's pivot the parent dataframe by grouping it with Name, Match_Day_Bucket and Avg.Scores."
   ]
  },
  {
   "cell_type": "code",
   "execution_count": 16,
   "metadata": {},
   "outputs": [
    {
     "name": "stdout",
     "output_type": "stream",
     "text": [
      "      name match_day_bucket  score\n",
      "0  Arielle          1 to 10    7.9\n",
      "1  Arielle         11 to 20    6.7\n",
      "2  Arielle         21 to 30    6.6\n",
      "3  Arielle         31 to 40    6.4\n",
      "4  Arielle         41 to 50    6.5\n",
      "5    Boris          1 to 10    6.4\n",
      "6    Boris         11 to 20    6.2\n",
      "7    Boris         21 to 30    6.3\n",
      "8    Boris         31 to 40    7.9\n",
      "9    Boris         41 to 50    7.0\n"
     ]
    }
   ],
   "source": [
    "data_df = data.groupby([\"name\", \"match_day_bucket\"])\n",
    "data_mean_df = data_df.score.mean()\n",
    "data_mean_df = data_mean_df.reset_index()\n",
    "print(data_mean_df)"
   ]
  },
  {
   "cell_type": "code",
   "execution_count": 24,
   "metadata": {},
   "outputs": [
    {
     "data": {
      "image/png": "[encoded data removed]",
      "text/plain": [
       "<Figure size 432x288 with 1 Axes>"
      ]
     },
     "metadata": {
      "needs_background": "light"
     },
     "output_type": "display_data"
    }
   ],
   "source": [
    "sns.lineplot(x=\"match_day_bucket\", y=\"score\",\n",
    "             hue=\"name\", style=\"name\",\n",
    "             data=data_mean_df)\n",
    "plt.title(\"Match Day Bucket vs Avg. Score\")\n",
    "plt.show()"
   ]
  },
  {
   "attachments": {},
   "cell_type": "markdown",
   "metadata": {},
   "source": [
    "- When trying to understand the performance of the contestants over this season, it is clearly evident that Arille dominated the floor initially with high Avg. score when compared to Boris. But as the season progress Arille Avg. score seems to have a negative trend.\n",
    "\n",
    "- Whereas Boris started the season with low Avg. score and consistently showed upward trend and towards the end of the season, his Avg. score is higher than Arille."
   ]
  },
  {
   "attachments": {},
   "cell_type": "markdown",
   "metadata": {},
   "source": [
    "<a name = Section46></a>\n",
    "#### 4.6 Match Day Bucket vs Hand vs Score\n"
   ]
  },
  {
   "cell_type": "markdown",
   "metadata": {},
   "source": [
    "Let's pivot the parent dataframe by grouping it with Name, Match_Day_Bucket, hand and Scores."
   ]
  },
  {
   "cell_type": "code",
   "execution_count": 30,
   "metadata": {},
   "outputs": [
    {
     "name": "stdout",
     "output_type": "stream",
     "text": [
      "       name match_day_bucket hand  score\n",
      "0   Arielle          1 to 10    L      9\n",
      "1   Arielle          1 to 10    R     70\n",
      "2   Arielle         11 to 20    L     21\n",
      "3   Arielle         11 to 20    R     46\n",
      "4   Arielle         21 to 30    L     21\n",
      "5   Arielle         21 to 30    R     45\n",
      "6   Arielle         31 to 40    L     10\n",
      "7   Arielle         31 to 40    R     54\n",
      "8   Arielle         41 to 50    L     11\n",
      "9   Arielle         41 to 50    R     54\n",
      "10    Boris          1 to 10    L     54\n",
      "11    Boris          1 to 10    R     10\n",
      "12    Boris         11 to 20    L     30\n",
      "13    Boris         11 to 20    R     32\n",
      "14    Boris         21 to 30    L     37\n",
      "15    Boris         21 to 30    R     26\n",
      "16    Boris         31 to 40    L     41\n",
      "17    Boris         31 to 40    R     38\n",
      "18    Boris         41 to 50    L     37\n",
      "19    Boris         41 to 50    R     33\n"
     ]
    }
   ],
   "source": [
    "hand_df = data.groupby([\"name\", \"match_day_bucket\",\"hand\"])\n",
    "data_hand_df = hand_df.score.sum()\n",
    "data_hand_df = data_hand_df.reset_index()\n",
    "print(data_hand_df)"
   ]
  },
  {
   "cell_type": "code",
   "execution_count": 37,
   "metadata": {},
   "outputs": [
    {
     "data": {
      "image/png": "[encoded data removed]",
      "text/plain": [
       "<Figure size 1080x360 with 2 Axes>"
      ]
     },
     "metadata": {
      "needs_background": "light"
     },
     "output_type": "display_data"
    }
   ],
   "source": [
    "Arielle_data_df = data_hand_df[data_hand_df['name'] == 'Arielle']\n",
    "Boris_data_df = data_hand_df[data_hand_df['name'] == 'Boris']\n",
    "\n",
    "figure = plt.figure(figsize = [15, 5])\n",
    "\n",
    "plt.subplot(1, 2, 1)\n",
    "sns.barplot(x = 'match_day_bucket', y = 'score', hue = 'hand', data = Arielle_data_df)\n",
    "plt.title(\"Arielle Scores\")\n",
    "\n",
    "plt.subplot(1, 2, 2)\n",
    "sns.barplot(x = 'match_day_bucket', y = 'score', hue = 'hand', data = Boris_data_df)\n",
    "plt.title(\"Boris Scores\")\n",
    "\n",
    "plt.suptitle(\"Match Day Bucket vs Hand vs Score\")\n",
    "plt.show()"
   ]
  },
  {
   "cell_type": "markdown",
   "metadata": {},
   "source": [
    "When trying to understand the Hand feature impact with Match Day Bucket and Score, we gathered the below insights.\n",
    "- Arille is good at pan flipping with right hand throughout the season and it is clearly evident that he is not good at pan flipping with left hand.\n",
    "- Boris was a left handed pan flipper initially during the inception of the season and as the season progress he improved himself at pan flipping with both the hands.\n"
   ]
  },
  {
   "attachments": {},
   "cell_type": "markdown",
   "metadata": {},
   "source": [
    "<a name = Section5></a>\n",
    "\n",
    "---\n",
    "### **5. Analysis - Summary**\n",
    "---"
   ]
  },
  {
   "attachments": {},
   "cell_type": "markdown",
   "metadata": {},
   "source": [
    "#### Key Insights:\n",
    " - Boris score is positively skewed, whereas Arielle score is negatively skewed.\n",
    " - Boris score shows the positive correlation with match day, whereas Arielle score is negatively correlated.\n",
    " - Boris score shows the upward trend when compared with Match day Bucket, whereas Arielle shows downward trend.\n",
    " - Boris despite being a left hand pan flipper showed continuous improvement throughout the season in terms of scores and proved himself to be ambidextrous.\n",
    "\n",
    "#### Key Suggestions:\n",
    "\n",
    " - Since, Boris showed positive trend on all the touch points from this season data, he is a better pancake flipper.\n",
    " - Whereas Arielle showed his strong competitiveness in pancake flipping using Right Hand consistently.\n",
    " - In the upcoming competitions, Boris can give tough competition to Arielle in pancake flipping using the Right Hand, whereas when comes to Left Hand pancake flipping Boris outperforms Arielle."
   ]
  }
 ],
 "metadata": {
  "kernelspec": {
   "display_name": "Python 3",
   "language": "python",
   "name": "python3"
  },
  "language_info": {
   "codemirror_mode": {
    "name": "ipython",
    "version": 3
   },
   "file_extension": ".py",
   "mimetype": "text/x-python",
   "name": "python",
   "nbconvert_exporter": "python",
   "pygments_lexer": "ipython3",
   "version": "3.7.4"
  }
 },
 "nbformat": 4,
 "nbformat_minor": 2
}
